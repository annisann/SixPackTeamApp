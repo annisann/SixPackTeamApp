{
  "nbformat": 4,
  "nbformat_minor": 0,
  "metadata": {
    "colab": {
      "name": "Untitled3.ipynb",
      "provenance": []
    },
    "kernelspec": {
      "name": "python3",
      "display_name": "Python 3"
    },
    "language_info": {
      "name": "python"
    }
  },
  "cells": [
    {
      "cell_type": "code",
      "metadata": {
        "id": "jGIKI1FrQmm5"
      },
      "source": [
        "import numpy as np\n",
        "import pandas as pd\n",
        "\n",
        "import tensorflow as tf\n",
        "import tensorflow_hub as hub\n",
        "\n",
        "import matplotlib.pyplot as plt"
      ],
      "execution_count": 1,
      "outputs": []
    },
    {
      "cell_type": "code",
      "metadata": {
        "id": "Rw1a08GuQ5ZM"
      },
      "source": [
        "df_train = pd.read_csv('/tmp/train.csv')\n",
        "df_test = pd.read_csv('/tmp/test.csv')\n",
        "df_train.label = pd.factorize(df_train.label)[0]\n",
        "df_test.label = pd.factorize(df_test.label)[0]\n",
        "\n",
        "train_data = df_train.loc[:,'report'].values\n",
        "train_label = df_train.loc[:,'label'].values\n",
        "test_data = df_test.loc[:,'report'].values\n",
        "test_label = df_test.loc[:,'label'].values\n",
        "\n",
        "train_label = tf.keras.utils.to_categorical(train_label,5)\n",
        "test_label = tf.keras.utils.to_categorical(test_label,5)"
      ],
      "execution_count": 4,
      "outputs": []
    },
    {
      "cell_type": "code",
      "metadata": {
        "id": "-zpUmLqWYxOe"
      },
      "source": [
        "model = \"https://tfhub.dev/google/nnlm-id-dim128/2\"\n",
        "hub_layer = hub.KerasLayer(model, input_shape=[], dtype=tf.string, trainable=True)"
      ],
      "execution_count": 3,
      "outputs": []
    },
    {
      "cell_type": "code",
      "metadata": {
        "colab": {
          "base_uri": "https://localhost:8080/"
        },
        "id": "W_uTryqxZH3J",
        "outputId": "78b6ab64-5e19-4453-ba6c-13f26f40fcb1"
      },
      "source": [
        "model = tf.keras.Sequential()\n",
        "model.add(hub_layer)\n",
        "model.add(tf.keras.layers.Dense(16, activation='relu'))\n",
        "model.add(tf.keras.layers.Dense(5, activation='softmax'))\n",
        "model.compile(optimizer='rmsprop',\n",
        "              loss='categorical_crossentropy', metrics=['accuracy']\n",
        "              )\n",
        "model.summary()"
      ],
      "execution_count": 5,
      "outputs": [
        {
          "output_type": "stream",
          "text": [
            "Model: \"sequential_1\"\n",
            "_________________________________________________________________\n",
            "Layer (type)                 Output Shape              Param #   \n",
            "=================================================================\n",
            "keras_layer (KerasLayer)     (None, 128)               112461824 \n",
            "_________________________________________________________________\n",
            "dense (Dense)                (None, 16)                2064      \n",
            "_________________________________________________________________\n",
            "dense_1 (Dense)              (None, 5)                 85        \n",
            "=================================================================\n",
            "Total params: 112,463,973\n",
            "Trainable params: 112,463,973\n",
            "Non-trainable params: 0\n",
            "_________________________________________________________________\n"
          ],
          "name": "stdout"
        }
      ]
    },
    {
      "cell_type": "code",
      "metadata": {
        "colab": {
          "base_uri": "https://localhost:8080/"
        },
        "id": "tFfCe63VeuIg",
        "outputId": "4f07c25c-44a3-4b7e-d542-82d836a06eef"
      },
      "source": [
        "num_epochs = 5\n",
        "history = model.fit(train_data, train_label, epochs=num_epochs, validation_data=(test_data, test_label))"
      ],
      "execution_count": 6,
      "outputs": [
        {
          "output_type": "stream",
          "text": [
            "Epoch 1/5\n",
            "18/18 [==============================] - 9s 464ms/step - loss: 1.1678 - accuracy: 0.5804 - val_loss: 2.2910 - val_accuracy: 0.2431\n",
            "Epoch 2/5\n",
            "18/18 [==============================] - 8s 455ms/step - loss: 0.8126 - accuracy: 0.7972 - val_loss: 2.3741 - val_accuracy: 0.2847\n",
            "Epoch 3/5\n",
            "18/18 [==============================] - 8s 456ms/step - loss: 0.6049 - accuracy: 0.8287 - val_loss: 2.6026 - val_accuracy: 0.2847\n",
            "Epoch 4/5\n",
            "18/18 [==============================] - 8s 451ms/step - loss: 0.4441 - accuracy: 0.8724 - val_loss: 2.6319 - val_accuracy: 0.2847\n",
            "Epoch 5/5\n",
            "18/18 [==============================] - 8s 448ms/step - loss: 0.3223 - accuracy: 0.9196 - val_loss: 2.8689 - val_accuracy: 0.3194\n"
          ],
          "name": "stdout"
        }
      ]
    },
    {
      "cell_type": "code",
      "metadata": {
        "colab": {
          "base_uri": "https://localhost:8080/"
        },
        "id": "30oJskqz0bG4",
        "outputId": "cf146630-f5d7-495b-b754-e1dcf0769168"
      },
      "source": [
        "model.save('/tmp/classification_model')"
      ],
      "execution_count": 7,
      "outputs": [
        {
          "output_type": "stream",
          "text": [
            "INFO:tensorflow:Assets written to: /tmp/classification_model/assets\n"
          ],
          "name": "stdout"
        },
        {
          "output_type": "stream",
          "text": [
            "INFO:tensorflow:Assets written to: /tmp/classification_model/assets\n"
          ],
          "name": "stderr"
        }
      ]
    },
    {
      "cell_type": "code",
      "metadata": {
        "colab": {
          "base_uri": "https://localhost:8080/"
        },
        "id": "0xG0Sw6W-M51",
        "outputId": "ee1f442e-e0c6-46af-884a-be89eda9eeff"
      },
      "source": [
        "!zip -r /tmp/classification.zip /tmp/classification_model"
      ],
      "execution_count": 8,
      "outputs": [
        {
          "output_type": "stream",
          "text": [
            "  adding: tmp/classification_model/ (stored 0%)\n",
            "  adding: tmp/classification_model/saved_model.pb (deflated 85%)\n",
            "  adding: tmp/classification_model/variables/ (stored 0%)\n",
            "  adding: tmp/classification_model/variables/variables.data-00000-of-00001 (deflated 53%)\n",
            "  adding: tmp/classification_model/variables/variables.index (deflated 58%)\n",
            "  adding: tmp/classification_model/keras_metadata.pb (deflated 84%)\n",
            "  adding: tmp/classification_model/assets/ (stored 0%)\n",
            "  adding: tmp/classification_model/assets/tokens.txt (deflated 51%)\n"
          ],
          "name": "stdout"
        }
      ]
    }
  ]
}