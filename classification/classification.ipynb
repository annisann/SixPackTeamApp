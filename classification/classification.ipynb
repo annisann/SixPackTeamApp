{
  "nbformat": 4,
  "nbformat_minor": 0,
  "metadata": {
    "colab": {
      "name": "classification.ipynb",
      "provenance": [],
      "collapsed_sections": []
    },
    "kernelspec": {
      "name": "python3",
      "display_name": "Python 3"
    },
    "language_info": {
      "name": "python"
    }
  },
  "cells": [
    {
      "cell_type": "code",
      "metadata": {
        "id": "jGIKI1FrQmm5"
      },
      "source": [
        "import numpy as np\n",
        "import pandas as pd\n",
        "\n",
        "import tensorflow as tf\n",
        "import tensorflow_hub as hub"
      ],
      "execution_count": 1,
      "outputs": []
    },
    {
      "cell_type": "markdown",
      "metadata": {
        "id": "yKiGtrTlBLxK"
      },
      "source": [
        "**Load Dataset**"
      ]
    },
    {
      "cell_type": "code",
      "metadata": {
        "id": "Rw1a08GuQ5ZM"
      },
      "source": [
        "# Load Dataset\n",
        "df_train = pd.read_csv('/content/train.csv')\n",
        "df_test = pd.read_csv('/content/test.csv')\n",
        "\n",
        "# Separate dataset into data and label\n",
        "train_data = df_train.loc[:,'report'].values\n",
        "train_label = df_train.loc[:,'label'].values\n",
        "test_data = df_test.loc[:,'report'].values\n",
        "test_label = df_test.loc[:,'label'].values\n",
        "\n",
        "# Change label to categorical\n",
        "train_label = tf.keras.utils.to_categorical(train_label,5)\n",
        "test_label = tf.keras.utils.to_categorical(test_label,5)"
      ],
      "execution_count": 3,
      "outputs": []
    },
    {
      "cell_type": "markdown",
      "metadata": {
        "id": "bIf_375hGIvs"
      },
      "source": [
        "**Load pretrained word embbedings**"
      ]
    },
    {
      "cell_type": "code",
      "metadata": {
        "id": "-zpUmLqWYxOe"
      },
      "source": [
        "# load pretrained word embeddings\n",
        "model = \"https://tfhub.dev/google/nnlm-id-dim128/2\"\n",
        "hub_layer = hub.KerasLayer(model, input_shape=[], dtype=tf.string, trainable=True)"
      ],
      "execution_count": 4,
      "outputs": []
    },
    {
      "cell_type": "markdown",
      "metadata": {
        "id": "a2pNCr2PGN9G"
      },
      "source": [
        "**Sequence Model**"
      ]
    },
    {
      "cell_type": "code",
      "metadata": {
        "colab": {
          "base_uri": "https://localhost:8080/"
        },
        "id": "W_uTryqxZH3J",
        "outputId": "8426a689-7a52-4d78-e78d-e763c5b6bcf4"
      },
      "source": [
        "model = tf.keras.Sequential()\n",
        "model.add(hub_layer)\n",
        "model.add(tf.keras.layers.Dense(32, activation='relu'))\n",
        "model.add(tf.keras.layers.Dense(5, activation='softmax'))\n",
        "model.compile(optimizer='rmsprop',\n",
        "              loss='categorical_crossentropy', metrics=['accuracy']\n",
        "              )\n",
        "model.summary()"
      ],
      "execution_count": 5,
      "outputs": [
        {
          "output_type": "stream",
          "text": [
            "Model: \"sequential\"\n",
            "_________________________________________________________________\n",
            "Layer (type)                 Output Shape              Param #   \n",
            "=================================================================\n",
            "keras_layer (KerasLayer)     (None, 128)               112461824 \n",
            "_________________________________________________________________\n",
            "dense (Dense)                (None, 32)                4128      \n",
            "_________________________________________________________________\n",
            "dense_1 (Dense)              (None, 5)                 165       \n",
            "=================================================================\n",
            "Total params: 112,466,117\n",
            "Trainable params: 112,466,117\n",
            "Non-trainable params: 0\n",
            "_________________________________________________________________\n"
          ],
          "name": "stdout"
        }
      ]
    },
    {
      "cell_type": "markdown",
      "metadata": {
        "id": "YWIRQTL1KgSY"
      },
      "source": [
        "**Training**"
      ]
    },
    {
      "cell_type": "code",
      "metadata": {
        "colab": {
          "base_uri": "https://localhost:8080/"
        },
        "id": "tFfCe63VeuIg",
        "outputId": "2d025a42-ff81-49ee-f127-7d871b71eaae"
      },
      "source": [
        "num_epochs = 10\n",
        "history = model.fit(train_data, train_label, epochs=num_epochs, validation_data=(test_data, test_label), verbose = 1)"
      ],
      "execution_count": 7,
      "outputs": [
        {
          "output_type": "stream",
          "text": [
            "Epoch 1/10\n",
            "18/18 [==============================] - 9s 467ms/step - loss: 1.3410 - accuracy: 0.4825 - val_loss: 1.1623 - val_accuracy: 0.6528\n",
            "Epoch 2/10\n",
            "18/18 [==============================] - 8s 441ms/step - loss: 0.9387 - accuracy: 0.7570 - val_loss: 0.9609 - val_accuracy: 0.7083\n",
            "Epoch 3/10\n",
            "18/18 [==============================] - 8s 443ms/step - loss: 0.6747 - accuracy: 0.8129 - val_loss: 0.8099 - val_accuracy: 0.7292\n",
            "Epoch 4/10\n",
            "18/18 [==============================] - 8s 440ms/step - loss: 0.4707 - accuracy: 0.8601 - val_loss: 0.6585 - val_accuracy: 0.7708\n",
            "Epoch 5/10\n",
            "18/18 [==============================] - 8s 445ms/step - loss: 0.3102 - accuracy: 0.9336 - val_loss: 0.5531 - val_accuracy: 0.8333\n",
            "Epoch 6/10\n",
            "18/18 [==============================] - 8s 442ms/step - loss: 0.1980 - accuracy: 0.9703 - val_loss: 0.4671 - val_accuracy: 0.8472\n",
            "Epoch 7/10\n",
            "18/18 [==============================] - 8s 446ms/step - loss: 0.1205 - accuracy: 0.9860 - val_loss: 0.4446 - val_accuracy: 0.8681\n",
            "Epoch 8/10\n",
            "18/18 [==============================] - 8s 445ms/step - loss: 0.0721 - accuracy: 0.9948 - val_loss: 0.4155 - val_accuracy: 0.8681\n",
            "Epoch 9/10\n",
            "18/18 [==============================] - 8s 446ms/step - loss: 0.0417 - accuracy: 1.0000 - val_loss: 0.3802 - val_accuracy: 0.9028\n",
            "Epoch 10/10\n",
            "18/18 [==============================] - 8s 444ms/step - loss: 0.0230 - accuracy: 1.0000 - val_loss: 0.3421 - val_accuracy: 0.9028\n"
          ],
          "name": "stdout"
        }
      ]
    },
    {
      "cell_type": "markdown",
      "metadata": {
        "id": "5libIHl2K81C"
      },
      "source": [
        "**Save Model**"
      ]
    },
    {
      "cell_type": "code",
      "metadata": {
        "colab": {
          "base_uri": "https://localhost:8080/"
        },
        "id": "e3oyyoPbFIYd",
        "outputId": "29da87bc-5465-4335-ea7e-a20d1d5a8196"
      },
      "source": [
        "tf.saved_model.save(model, 'classification_model') #saving model"
      ],
      "execution_count": 22,
      "outputs": [
        {
          "output_type": "stream",
          "text": [
            "WARNING:tensorflow:FOR KERAS USERS: The object that you are saving contains one or more Keras models or layers. If you are loading the SavedModel with `tf.keras.models.load_model`, continue reading (otherwise, you may ignore the following instructions). Please change your code to save with `tf.keras.models.save_model` or `model.save`, and confirm that the file \"keras.metadata\" exists in the export directory. In the future, Keras will only load the SavedModels that have this file. In other words, `tf.saved_model.save` will no longer write SavedModels that can be recovered as Keras models (this will apply in TF 2.5).\n",
            "\n",
            "FOR DEVS: If you are overwriting _tracking_metadata in your class, this property has been used to save metadata in the SavedModel. The metadta field will be deprecated soon, so please move the metadata to a different file.\n"
          ],
          "name": "stdout"
        },
        {
          "output_type": "stream",
          "text": [
            "WARNING:tensorflow:FOR KERAS USERS: The object that you are saving contains one or more Keras models or layers. If you are loading the SavedModel with `tf.keras.models.load_model`, continue reading (otherwise, you may ignore the following instructions). Please change your code to save with `tf.keras.models.save_model` or `model.save`, and confirm that the file \"keras.metadata\" exists in the export directory. In the future, Keras will only load the SavedModels that have this file. In other words, `tf.saved_model.save` will no longer write SavedModels that can be recovered as Keras models (this will apply in TF 2.5).\n",
            "\n",
            "FOR DEVS: If you are overwriting _tracking_metadata in your class, this property has been used to save metadata in the SavedModel. The metadta field will be deprecated soon, so please move the metadata to a different file.\n"
          ],
          "name": "stderr"
        },
        {
          "output_type": "stream",
          "text": [
            "INFO:tensorflow:Assets written to: classification_model/assets\n"
          ],
          "name": "stdout"
        },
        {
          "output_type": "stream",
          "text": [
            "INFO:tensorflow:Assets written to: classification_model/assets\n"
          ],
          "name": "stderr"
        }
      ]
    },
    {
      "cell_type": "code",
      "metadata": {
        "colab": {
          "base_uri": "https://localhost:8080/"
        },
        "id": "0xG0Sw6W-M51",
        "outputId": "411ece67-5baa-4b5a-8147-cc5cfeb85281"
      },
      "source": [
        "!zip -r /content/classification_model.zip /content/classification_model"
      ],
      "execution_count": 23,
      "outputs": [
        {
          "output_type": "stream",
          "text": [
            "  adding: content/classification_model/ (stored 0%)\n",
            "  adding: content/classification_model/assets/ (stored 0%)\n",
            "  adding: content/classification_model/assets/tokens.txt (deflated 51%)\n",
            "  adding: content/classification_model/assets/.ipynb_checkpoints/ (stored 0%)\n",
            "  adding: content/classification_model/.ipynb_checkpoints/ (stored 0%)\n",
            "  adding: content/classification_model/saved_model.pb (deflated 85%)\n",
            "  adding: content/classification_model/variables/ (stored 0%)\n",
            "  adding: content/classification_model/variables/variables.index (deflated 58%)\n",
            "  adding: content/classification_model/variables/.ipynb_checkpoints/ (stored 0%)\n",
            "  adding: content/classification_model/variables/variables.data-00000-of-00001 (deflated 53%)\n"
          ],
          "name": "stdout"
        }
      ]
    },
    {
      "cell_type": "code",
      "metadata": {
        "colab": {
          "base_uri": "https://localhost:8080/",
          "height": 17
        },
        "id": "FNrm34wpLtui",
        "outputId": "6beb8b60-3971-4ce0-b1a9-3f53a5b41ee2"
      },
      "source": [
        "from google.colab import files\n",
        "files.download(\"/content/classification_model.zip\") # download file from google colab"
      ],
      "execution_count": 25,
      "outputs": [
        {
          "output_type": "display_data",
          "data": {
            "application/javascript": [
              "\n",
              "    async function download(id, filename, size) {\n",
              "      if (!google.colab.kernel.accessAllowed) {\n",
              "        return;\n",
              "      }\n",
              "      const div = document.createElement('div');\n",
              "      const label = document.createElement('label');\n",
              "      label.textContent = `Downloading \"${filename}\": `;\n",
              "      div.appendChild(label);\n",
              "      const progress = document.createElement('progress');\n",
              "      progress.max = size;\n",
              "      div.appendChild(progress);\n",
              "      document.body.appendChild(div);\n",
              "\n",
              "      const buffers = [];\n",
              "      let downloaded = 0;\n",
              "\n",
              "      const channel = await google.colab.kernel.comms.open(id);\n",
              "      // Send a message to notify the kernel that we're ready.\n",
              "      channel.send({})\n",
              "\n",
              "      for await (const message of channel.messages) {\n",
              "        // Send a message to notify the kernel that we're ready.\n",
              "        channel.send({})\n",
              "        if (message.buffers) {\n",
              "          for (const buffer of message.buffers) {\n",
              "            buffers.push(buffer);\n",
              "            downloaded += buffer.byteLength;\n",
              "            progress.value = downloaded;\n",
              "          }\n",
              "        }\n",
              "      }\n",
              "      const blob = new Blob(buffers, {type: 'application/binary'});\n",
              "      const a = document.createElement('a');\n",
              "      a.href = window.URL.createObjectURL(blob);\n",
              "      a.download = filename;\n",
              "      div.appendChild(a);\n",
              "      a.click();\n",
              "      div.remove();\n",
              "    }\n",
              "  "
            ],
            "text/plain": [
              "<IPython.core.display.Javascript object>"
            ]
          },
          "metadata": {
            "tags": []
          }
        },
        {
          "output_type": "display_data",
          "data": {
            "application/javascript": [
              "download(\"download_e4f6abc8-6802-4d9f-ad87-f2e14faac296\", \"classification_model.zip\", 425403459)"
            ],
            "text/plain": [
              "<IPython.core.display.Javascript object>"
            ]
          },
          "metadata": {
            "tags": []
          }
        }
      ]
    },
    {
      "cell_type": "markdown",
      "metadata": {
        "id": "PeO1DrKq9HLm"
      },
      "source": [
        "**Converting to tflite**"
      ]
    },
    {
      "cell_type": "code",
      "metadata": {
        "id": "_7iVyml0Yrvb"
      },
      "source": [
        "converter = tf.lite.TFLiteConverter.from_saved_model('classification_model')\n",
        "converter.target_spec.supported_ops = [\n",
        "  tf.lite.OpsSet.TFLITE_BUILTINS, # enable TensorFlow Lite ops.\n",
        "  tf.lite.OpsSet.SELECT_TF_OPS # enable TensorFlow ops.\n",
        "]\n",
        "\n",
        "tflite_model = converter.convert()"
      ],
      "execution_count": 24,
      "outputs": []
    },
    {
      "cell_type": "code",
      "metadata": {
        "id": "0Ro57HAJ8ZVv"
      },
      "source": [
        "with open('model.tflite', 'wb') as f:\n",
        "  f.write(tflite_model)"
      ],
      "execution_count": 26,
      "outputs": []
    }
  ]
}